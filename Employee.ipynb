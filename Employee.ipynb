{
 "cells": [
  {
   "cell_type": "code",
   "execution_count": 4,
   "metadata": {},
   "outputs": [],
   "source": [
    "employeename = ['Ram','Swapnil','Sahil','Nikita','Priti']\n",
    "employeeid = ['TBE2013','TBE2010','TBE2014','TBE2011','TBE2015']\n",
    "department = ['plaining','desing','coding','testing','developing']\n",
    "salery =  [17000,23000,19000,20000,25000]\n"
   ]
  },
  {
   "cell_type": "code",
   "execution_count": 14,
   "metadata": {},
   "outputs": [
    {
     "name": "stdout",
     "output_type": "stream",
     "text": [
      "Dear Empolyee Ram , your id is TBE2013 .\n",
      "Your appointed for plaining department and salery is 17000 .\n",
      "Dear Empolyee Swapnil , your id is TBE2010 .\n",
      "Your appointed for desing department and salery is 23000 .\n",
      "Dear Empolyee Sahil , your id is TBE2014 .\n",
      "Your appointed for coding department and salery is 19000 .\n",
      "Dear Empolyee Nikita , your id is TBE2011 .\n",
      "Your appointed for testing department and salery is 20000 .\n",
      "Dear Empolyee Priti , your id is TBE2015 .\n",
      "Your appointed for developing department and salery is 25000 .\n",
      "ALL THE BEST.....!\n"
     ]
    }
   ],
   "source": [
    "import itertools\n",
    "for (en,ei,d,s) in zip(employeename, employeeid, department, salery):\n",
    "    print('Dear Empolyee', en, ',', 'your id is',ei,'.')\n",
    "    print('Your appointed for', d, 'department and salery is', s,'.')\n",
    "print('ALL THE BEST.....!')\n"
   ]
  }
 ],
 "metadata": {
  "kernelspec": {
   "display_name": "Python 3",
   "language": "python",
   "name": "python3"
  },
  "language_info": {
   "codemirror_mode": {
    "name": "ipython",
    "version": 3
   },
   "file_extension": ".py",
   "mimetype": "text/x-python",
   "name": "python",
   "nbconvert_exporter": "python",
   "pygments_lexer": "ipython3",
   "version": "3.7.3"
  }
 },
 "nbformat": 4,
 "nbformat_minor": 2
}
